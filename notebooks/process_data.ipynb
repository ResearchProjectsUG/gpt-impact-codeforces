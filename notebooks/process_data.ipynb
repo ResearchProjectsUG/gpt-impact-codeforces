{
 "cells": [
  {
   "cell_type": "code",
   "execution_count": 1,
   "metadata": {},
   "outputs": [],
   "source": [
    "data_dir = \"../data\""
   ]
  },
  {
   "cell_type": "code",
   "execution_count": 2,
   "metadata": {},
   "outputs": [],
   "source": [
    "import pandas as pd\n",
    "import os\n",
    "\n",
    "problems_vars = [\"index\", \"rating\"]\n",
    "users_vars = [\"handle\", \"country\", \"city\", \"rating\", \"max_rating\"]\n",
    "submissions_vars = [\"contest_id\", \"problem_index\", \"author_handle\", \"programming_language\", \"relative_time_seconds\"]\n",
    "\n",
    "def process_contest_data(path, start_date, i):\n",
    "    print(\".\", end = \"\")\n",
    "    \n",
    "    if (i != 0) and ((i + 1) % 50 == 0):\n",
    "        print(\"  \", i + 1)\n",
    "    \n",
    "    contest = pd.read_csv(os.path.join(path, \"contest.csv\"))\n",
    "    if contest[\"start_time_seconds\"].values[0] < start_date:\n",
    "        return pd.DataFrame()\n",
    "\n",
    "    problems = pd.read_csv(os.path.join(path, \"problems.csv\"))[problems_vars]\n",
    "    ok_submissions = pd.read_csv(os.path.join(path, \"submissions.csv\")).query(\"verdict == 'OK'\")[submissions_vars]\n",
    "\n",
    "    contest_id, contest_name, contest_start_time = contest[[\"id\", \"name\", \"start_time_seconds\"]].values[0]\n",
    "\n",
    "    # Sample data setup\n",
    "    # problems dataframe with 'index' column for problem positions and 'rating' column for difficulty\n",
    "    # ok_submissions dataframe with 'author_handle', 'problem_index', 'programming_language', and 'relative_time_seconds' columns\n",
    "\n",
    "    # Ensure the \"index\" column is of string type to handle alphanumeric characters\n",
    "    problems['index'] = problems['index'].astype(str)\n",
    "\n",
    "    # Get a sorted list of unique problem positions and their corresponding ratings from the problems dataframe\n",
    "    problem_positions = sorted(problems['index'].unique())\n",
    "    position_mapping = {pos: i + 1 for i, pos in enumerate(problem_positions)}  # Map each position to an ordered number\n",
    "    rating_mapping = problems.set_index('index')['rating'].to_dict()  # Map each problem index to its rating\n",
    "\n",
    "    # Initialize a new dataframe with authors as rows and columns for each problem position:\n",
    "    # one for completion status (finished_[x]), one for programming language ([x]_language), and one for relative time (relative_time_[x])\n",
    "    authors = ok_submissions['author_handle'].unique()\n",
    "    finished_columns = [f'finished_{position_mapping[pos]}' for pos in problem_positions]\n",
    "    language_columns = [f'{position_mapping[pos]}_language' for pos in problem_positions]\n",
    "    time_columns = [f'relative_time_{position_mapping[pos]}' for pos in problem_positions]\n",
    "    time_to_answer_columns = [f'time_to_answer_{position_mapping[pos]}' for pos in problem_positions]\n",
    "    all_columns = finished_columns + language_columns + time_columns + time_to_answer_columns + ['rating_achieved']\n",
    "    finished_df = pd.DataFrame(index=authors, columns=all_columns)\n",
    "    finished_df[finished_columns] = False  # Fill completion columns with False initially\n",
    "    finished_df['rating_achieved'] = 0  # Initialize 'rating_achieved' with 0\n",
    "\n",
    "    # Calculate `time_to_answer` in `ok_submissions`\n",
    "    ok_submissions = ok_submissions.sort_values(by=['author_handle', 'relative_time_seconds'])\n",
    "    ok_submissions['time_to_answer'] = ok_submissions.groupby('author_handle')['relative_time_seconds'].diff().fillna(ok_submissions['relative_time_seconds'])\n",
    "\n",
    "    # Populate the dataframe with True for completion status, programming language, and calculate rating achieved and relative time\n",
    "    for _, submission in ok_submissions.iterrows():\n",
    "        author = submission['author_handle']\n",
    "        problem_index = submission['problem_index']\n",
    "        language = submission['programming_language']\n",
    "        relative_time = submission['relative_time_seconds']\n",
    "        time_to_answer = submission['time_to_answer']\n",
    "        if problem_index in position_mapping:  # Check to avoid any missing mappings\n",
    "            finished_col = f'finished_{position_mapping[problem_index]}'\n",
    "            language_col = f'{position_mapping[problem_index]}_language'\n",
    "            time_col = f'relative_time_{position_mapping[problem_index]}'\n",
    "            time_to_answer_col = f'time_to_answer_{position_mapping[problem_index]}'\n",
    "            \n",
    "            # Set completion and language columns\n",
    "            finished_df.loc[author, finished_col] = True\n",
    "            finished_df.loc[author, language_col] = language\n",
    "            \n",
    "            # Update rating achieved\n",
    "            finished_df.loc[author, 'rating_achieved'] += rating_mapping.get(problem_index, 0)\n",
    "\n",
    "            # Set time to answer column\n",
    "            finished_df.loc[author, time_to_answer_col] = time_to_answer\n",
    "            \n",
    "            # Set or update the minimum relative time for this problem submission\n",
    "            if pd.isna(finished_df.loc[author, time_col]) or finished_df.loc[author, time_col] > relative_time:\n",
    "                finished_df.loc[author, time_col] = relative_time\n",
    "\n",
    "    # Reset index if needed to make 'author_handle' a column\n",
    "    finished_df = finished_df.reset_index().rename(columns={'index': 'author_handle'})\n",
    "    finished_df[\"contest_id\"] = contest_id\n",
    "    finished_df[\"contest_name\"] = contest_name\n",
    "    finished_df[\"contest_start_time\"] = contest_start_time\n",
    "\n",
    "    # Perform a left merge on `users` and `finished_df`\n",
    "    # merged_df = users.merge(finished_df, left_on='handle', right_on='author_handle', how='left')\n",
    "\n",
    "    # # Drop the redundant `author_handle` column if needed\n",
    "    # merged_df = merged_df.drop(columns=['handle'])\n",
    "\n",
    "    finished_df[\"rating_achieved\"] = finished_df[\"rating_achieved\"].fillna(0)\n",
    "    return finished_df"
   ]
  },
  {
   "cell_type": "code",
   "execution_count": null,
   "metadata": {},
   "outputs": [
    {
     "name": "stdout",
     "output_type": "stream",
     "text": [
      "Processing 1675 folders. This might take a while\n",
      " ---+--- 1 ---+--- 2 ---+--- 3 ---+--- 4 ---+--- 5\n"
     ]
    }
   ],
   "source": [
    "from joblib import Parallel, delayed, parallel_config\n",
    "\n",
    "start_date = 1609459200 # unix time for the start of the desired data\n",
    "data_paths = [os.path.join(data_dir, contest_dir) for contest_dir in os.listdir(data_dir) if \"codeforces-round-978-div-2\" not in contest_dir]\n",
    "\n",
    "processed_dfs = []\n",
    "user_dfs = []\n",
    "print(f\"Processing {len(data_paths)} folders. This might take a while\")\n",
    "print(\" ---+--- 1 ---+--- 2 ---+--- 3 ---+--- 4 ---+--- 5\")\n",
    "\n",
    "with parallel_config(n_jobs = -1):\n",
    "    master_df = pd.concat(Parallel()(delayed(process_contest_data)(path, start_date, i) for i, path in enumerate(data_paths)))\n",
    "    user_df = pd.concat(Parallel()(delayed(pd.read_csv)(os.path.join(path, \"users.csv\"), usecols = users_vars) for _, path in enumerate(data_paths))).drop_duplicates(subset = \"handle\").reset_index(drop = True)"
   ]
  },
  {
   "cell_type": "code",
   "execution_count": null,
   "metadata": {},
   "outputs": [],
   "source": [
    "final = master_df.merge(user_df, left_on = \"author_handle\", right_on = \"handle\").drop(columns = [\"handle\"]).sort_values([\"contest_start_time\", \"author_handle\"]).reset_index(drop = True)"
   ]
  },
  {
   "cell_type": "code",
   "execution_count": 22,
   "metadata": {},
   "outputs": [],
   "source": [
    "final.to_csv(os.path.join(data_dir, \"master.csv\"), index = False)"
   ]
  }
 ],
 "metadata": {
  "kernelspec": {
   "display_name": "env",
   "language": "python",
   "name": "python3"
  },
  "language_info": {
   "codemirror_mode": {
    "name": "ipython",
    "version": 3
   },
   "file_extension": ".py",
   "mimetype": "text/x-python",
   "name": "python",
   "nbconvert_exporter": "python",
   "pygments_lexer": "ipython3",
   "version": "3.11.5"
  }
 },
 "nbformat": 4,
 "nbformat_minor": 2
}
